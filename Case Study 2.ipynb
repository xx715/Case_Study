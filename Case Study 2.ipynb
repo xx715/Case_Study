{
 "cells": [
  {
   "cell_type": "code",
   "execution_count": 78,
   "metadata": {},
   "outputs": [],
   "source": [
    "import pandas as pd\n",
    "import numpy as np\n",
    "import matplotlib.pyplot as plt\n",
    "import seaborn as sns"
   ]
  },
  {
   "cell_type": "code",
   "execution_count": 4,
   "metadata": {},
   "outputs": [],
   "source": [
    "df = pd.read_csv('casestudy.csv',index_col=0)"
   ]
  },
  {
   "cell_type": "code",
   "execution_count": 5,
   "metadata": {},
   "outputs": [
    {
     "data": {
      "text/html": [
       "<div>\n",
       "<style scoped>\n",
       "    .dataframe tbody tr th:only-of-type {\n",
       "        vertical-align: middle;\n",
       "    }\n",
       "\n",
       "    .dataframe tbody tr th {\n",
       "        vertical-align: top;\n",
       "    }\n",
       "\n",
       "    .dataframe thead th {\n",
       "        text-align: right;\n",
       "    }\n",
       "</style>\n",
       "<table border=\"1\" class=\"dataframe\">\n",
       "  <thead>\n",
       "    <tr style=\"text-align: right;\">\n",
       "      <th></th>\n",
       "      <th>customer_email</th>\n",
       "      <th>net_revenue</th>\n",
       "      <th>year</th>\n",
       "    </tr>\n",
       "  </thead>\n",
       "  <tbody>\n",
       "    <tr>\n",
       "      <td>0</td>\n",
       "      <td>nhknapwsbx@gmail.com</td>\n",
       "      <td>249.92</td>\n",
       "      <td>2015</td>\n",
       "    </tr>\n",
       "    <tr>\n",
       "      <td>1</td>\n",
       "      <td>joiuzbvcpn@gmail.com</td>\n",
       "      <td>87.61</td>\n",
       "      <td>2015</td>\n",
       "    </tr>\n",
       "    <tr>\n",
       "      <td>2</td>\n",
       "      <td>ukkjctepxt@gmail.com</td>\n",
       "      <td>168.38</td>\n",
       "      <td>2015</td>\n",
       "    </tr>\n",
       "    <tr>\n",
       "      <td>3</td>\n",
       "      <td>gykatilzrt@gmail.com</td>\n",
       "      <td>62.40</td>\n",
       "      <td>2015</td>\n",
       "    </tr>\n",
       "    <tr>\n",
       "      <td>4</td>\n",
       "      <td>mmsgsrtxah@gmail.com</td>\n",
       "      <td>43.08</td>\n",
       "      <td>2015</td>\n",
       "    </tr>\n",
       "    <tr>\n",
       "      <td>...</td>\n",
       "      <td>...</td>\n",
       "      <td>...</td>\n",
       "      <td>...</td>\n",
       "    </tr>\n",
       "    <tr>\n",
       "      <td>685922</td>\n",
       "      <td>qzqttwiftu@gmail.com</td>\n",
       "      <td>184.58</td>\n",
       "      <td>2017</td>\n",
       "    </tr>\n",
       "    <tr>\n",
       "      <td>685923</td>\n",
       "      <td>pjodiifjop@gmail.com</td>\n",
       "      <td>133.03</td>\n",
       "      <td>2017</td>\n",
       "    </tr>\n",
       "    <tr>\n",
       "      <td>685924</td>\n",
       "      <td>appaplmgko@gmail.com</td>\n",
       "      <td>200.98</td>\n",
       "      <td>2017</td>\n",
       "    </tr>\n",
       "    <tr>\n",
       "      <td>685925</td>\n",
       "      <td>wvkpmwsgck@gmail.com</td>\n",
       "      <td>235.35</td>\n",
       "      <td>2017</td>\n",
       "    </tr>\n",
       "    <tr>\n",
       "      <td>685926</td>\n",
       "      <td>aregboumbw@gmail.com</td>\n",
       "      <td>208.43</td>\n",
       "      <td>2017</td>\n",
       "    </tr>\n",
       "  </tbody>\n",
       "</table>\n",
       "<p>685927 rows × 3 columns</p>\n",
       "</div>"
      ],
      "text/plain": [
       "               customer_email  net_revenue  year\n",
       "0        nhknapwsbx@gmail.com       249.92  2015\n",
       "1        joiuzbvcpn@gmail.com        87.61  2015\n",
       "2        ukkjctepxt@gmail.com       168.38  2015\n",
       "3        gykatilzrt@gmail.com        62.40  2015\n",
       "4        mmsgsrtxah@gmail.com        43.08  2015\n",
       "...                       ...          ...   ...\n",
       "685922   qzqttwiftu@gmail.com       184.58  2017\n",
       "685923   pjodiifjop@gmail.com       133.03  2017\n",
       "685924   appaplmgko@gmail.com       200.98  2017\n",
       "685925   wvkpmwsgck@gmail.com       235.35  2017\n",
       "685926   aregboumbw@gmail.com       208.43  2017\n",
       "\n",
       "[685927 rows x 3 columns]"
      ]
     },
     "execution_count": 5,
     "metadata": {},
     "output_type": "execute_result"
    }
   ],
   "source": [
    "df"
   ]
  },
  {
   "cell_type": "code",
   "execution_count": 8,
   "metadata": {},
   "outputs": [
    {
     "data": {
      "text/plain": [
       "array([2015, 2016, 2017])"
      ]
     },
     "execution_count": 8,
     "metadata": {},
     "output_type": "execute_result"
    }
   ],
   "source": [
    "df.year.unique()"
   ]
  },
  {
   "cell_type": "code",
   "execution_count": 44,
   "metadata": {},
   "outputs": [],
   "source": [
    "df_2015 = df[df['year']==2015]"
   ]
  },
  {
   "cell_type": "code",
   "execution_count": 10,
   "metadata": {},
   "outputs": [],
   "source": [
    "df_2016 = df[df['year']==2016].merge(df[df['year']==2015],how='left',on='customer_email')"
   ]
  },
  {
   "cell_type": "code",
   "execution_count": 17,
   "metadata": {},
   "outputs": [],
   "source": [
    "df_2017 = df[df['year']==2017].merge(df[df['year']==2016],how='left',on='customer_email')"
   ]
  },
  {
   "cell_type": "code",
   "execution_count": 26,
   "metadata": {},
   "outputs": [],
   "source": [
    "df_2016.columns = ['customer_email','net_revenue_curr','year_curr','net_revenue_prev','year_prev']\n",
    "df_2017.columns = ['customer_email','net_revenue_curr','year_curr','net_revenue_prev','year_prev']"
   ]
  },
  {
   "cell_type": "code",
   "execution_count": 65,
   "metadata": {},
   "outputs": [],
   "source": [
    "def show_res(year):\n",
    "\n",
    "    df_new = df[df['year']==year].merge(df[df['year']==year-1],how='left',on='customer_email')\n",
    "    df_new.columns = ['customer_email','net_revenue_curr','year_curr','net_revenue_prev','year_prev']\n",
    "   \n",
    "    df_lost = df[df['year']==year-1].merge(df[df['year']==year],how='left',on='customer_email')\n",
    "    df_lost.columns = ['customer_email','net_revenue_curr','year_curr','net_revenue_prev','year_prev']\n",
    "    \n",
    "    # Total revenue for the current year\n",
    "    ttl_rev = df_new.net_revenue_curr.sum()\n",
    "\n",
    "    # New Customer Revenue \n",
    "    new_rev = df_new[df_new.isnull().T.any()].net_revenue_curr.sum()\n",
    "\n",
    "    # Existing Customer Growth\n",
    "    exist_rev_growth = df_new[df_new.notnull().T.all()].net_revenue_curr.sum()-df_new[df_new.notnull().T.all()].net_revenue_prev.sum()\n",
    "\n",
    "    # Revenue lost from attrition\n",
    "    lost_rev = df_lost[df_lost.isnull().T.any()].net_revenue_curr.sum()\n",
    "\n",
    "    # Existing Customer Revenue Current Year\n",
    "    exist_rev_curr = df_new[df_new.notnull().T.all()].net_revenue_curr.sum()\n",
    "\n",
    "    # Existing Customer Revenue Prior Year\n",
    "    exist_rev_prev = df_new[df_new.notnull().T.all()].net_revenue_prev.sum()\n",
    "\n",
    "    # Total Customers Current Year\n",
    "    ttl_cstmr_curr = len(df[df['year']==year]['customer_email'].unique())\n",
    "\n",
    "    # Total Customers Previous Year\n",
    "    ttl_cstmr_prev = len(df[df['year']==year]['customer_email'].unique())\n",
    "\n",
    "    # New Customers\n",
    "    new_cstmr = len(df_new[df_new.isnull().T.any()])\n",
    "\n",
    "    # Lost Customers\n",
    "    lost_cstmr = len(df_lost[df_lost.isnull().T.any()])\n",
    "\n",
    "\n",
    "    res = pd.DataFrame.from_dict({'total_revenue':[ttl_rev],\n",
    "                                      'new_customer_revenue':[new_rev],\n",
    "                                      'existing_customer_growth':[exist_rev_growth],\n",
    "                                      'revenue_lost':[lost_rev],\n",
    "                                      'existing_revenue_curr':[exist_rev_curr],\n",
    "                                      'existing_revenue_prior':[exist_rev_prev],\n",
    "                                      'total_customer_curr':[ttl_cstmr_curr],\n",
    "                                      'total_customer_prior':[ttl_cstmr_prev],\n",
    "                                      'new_customer':[new_cstmr],\n",
    "                                      'lost_customer':[lost_cstmr]})\n",
    "    return res\n"
   ]
  },
  {
   "cell_type": "code",
   "execution_count": 70,
   "metadata": {},
   "outputs": [],
   "source": [
    "res_2016 = show_res(2016)"
   ]
  },
  {
   "cell_type": "code",
   "execution_count": 71,
   "metadata": {},
   "outputs": [],
   "source": [
    "res_2017 = show_res(2017)"
   ]
  },
  {
   "cell_type": "code",
   "execution_count": 76,
   "metadata": {},
   "outputs": [
    {
     "data": {
      "text/plain": [
       "(array([23084., 22995., 23148., 23316., 22960., 23076., 23456., 23224.,\n",
       "        22964., 23071.]),\n",
       " array([  1. ,  25.9,  50.8,  75.7, 100.6, 125.5, 150.4, 175.3, 200.2,\n",
       "        225.1, 250. ]),\n",
       " <a list of 10 Patch objects>)"
      ]
     },
     "execution_count": 76,
     "metadata": {},
     "output_type": "execute_result"
    },
    {
     "data": {
      "image/png": "[encoded data removed]",
      "text/plain": [
       "<Figure size 432x288 with 1 Axes>"
      ]
     },
     "metadata": {
      "needs_background": "light"
     },
     "output_type": "display_data"
    }
   ],
   "source": [
    "df_2015 = df[df['year']==2015]\n",
    "plt.hist(df_2015['net_revenue'])"
   ]
  },
  {
   "cell_type": "code",
   "execution_count": 81,
   "metadata": {},
   "outputs": [
    {
     "data": {
      "image/png": "[encoded data removed]",
      "text/plain": [
       "<Figure size 432x288 with 1 Axes>"
      ]
     },
     "metadata": {
      "needs_background": "light"
     },
     "output_type": "display_data"
    }
   ],
   "source": [
    "sns.boxplot(x='year',y='net_revenue',data = df, showfliers=False)\n",
    "plt.show()"
   ]
  },
  {
   "cell_type": "code",
   "execution_count": 85,
   "metadata": {},
   "outputs": [
    {
     "data": {
      "text/html": [
       "<div>\n",
       "<style scoped>\n",
       "    .dataframe tbody tr th:only-of-type {\n",
       "        vertical-align: middle;\n",
       "    }\n",
       "\n",
       "    .dataframe tbody tr th {\n",
       "        vertical-align: top;\n",
       "    }\n",
       "\n",
       "    .dataframe thead th {\n",
       "        text-align: right;\n",
       "    }\n",
       "</style>\n",
       "<table border=\"1\" class=\"dataframe\">\n",
       "  <thead>\n",
       "    <tr style=\"text-align: right;\">\n",
       "      <th></th>\n",
       "      <th>customer_email</th>\n",
       "      <th>net_revenue</th>\n",
       "      <th>year</th>\n",
       "    </tr>\n",
       "  </thead>\n",
       "  <tbody>\n",
       "    <tr>\n",
       "      <td>0</td>\n",
       "      <td>nhknapwsbx@gmail.com</td>\n",
       "      <td>249.92</td>\n",
       "      <td>2015</td>\n",
       "    </tr>\n",
       "    <tr>\n",
       "      <td>1</td>\n",
       "      <td>joiuzbvcpn@gmail.com</td>\n",
       "      <td>87.61</td>\n",
       "      <td>2015</td>\n",
       "    </tr>\n",
       "    <tr>\n",
       "      <td>2</td>\n",
       "      <td>ukkjctepxt@gmail.com</td>\n",
       "      <td>168.38</td>\n",
       "      <td>2015</td>\n",
       "    </tr>\n",
       "    <tr>\n",
       "      <td>3</td>\n",
       "      <td>gykatilzrt@gmail.com</td>\n",
       "      <td>62.40</td>\n",
       "      <td>2015</td>\n",
       "    </tr>\n",
       "    <tr>\n",
       "      <td>4</td>\n",
       "      <td>mmsgsrtxah@gmail.com</td>\n",
       "      <td>43.08</td>\n",
       "      <td>2015</td>\n",
       "    </tr>\n",
       "    <tr>\n",
       "      <td>...</td>\n",
       "      <td>...</td>\n",
       "      <td>...</td>\n",
       "      <td>...</td>\n",
       "    </tr>\n",
       "    <tr>\n",
       "      <td>231289</td>\n",
       "      <td>xtrpmgjbwp@gmail.com</td>\n",
       "      <td>216.89</td>\n",
       "      <td>2015</td>\n",
       "    </tr>\n",
       "    <tr>\n",
       "      <td>231290</td>\n",
       "      <td>peeorxpsbr@gmail.com</td>\n",
       "      <td>39.16</td>\n",
       "      <td>2015</td>\n",
       "    </tr>\n",
       "    <tr>\n",
       "      <td>231291</td>\n",
       "      <td>vanasezjpw@gmail.com</td>\n",
       "      <td>233.46</td>\n",
       "      <td>2015</td>\n",
       "    </tr>\n",
       "    <tr>\n",
       "      <td>231292</td>\n",
       "      <td>dnpremlztb@gmail.com</td>\n",
       "      <td>136.27</td>\n",
       "      <td>2015</td>\n",
       "    </tr>\n",
       "    <tr>\n",
       "      <td>231293</td>\n",
       "      <td>qsgswrpycl@gmail.com</td>\n",
       "      <td>60.24</td>\n",
       "      <td>2015</td>\n",
       "    </tr>\n",
       "  </tbody>\n",
       "</table>\n",
       "<p>231294 rows × 3 columns</p>\n",
       "</div>"
      ],
      "text/plain": [
       "               customer_email  net_revenue  year\n",
       "0        nhknapwsbx@gmail.com       249.92  2015\n",
       "1        joiuzbvcpn@gmail.com        87.61  2015\n",
       "2        ukkjctepxt@gmail.com       168.38  2015\n",
       "3        gykatilzrt@gmail.com        62.40  2015\n",
       "4        mmsgsrtxah@gmail.com        43.08  2015\n",
       "...                       ...          ...   ...\n",
       "231289   xtrpmgjbwp@gmail.com       216.89  2015\n",
       "231290   peeorxpsbr@gmail.com        39.16  2015\n",
       "231291   vanasezjpw@gmail.com       233.46  2015\n",
       "231292   dnpremlztb@gmail.com       136.27  2015\n",
       "231293   qsgswrpycl@gmail.com        60.24  2015\n",
       "\n",
       "[231294 rows x 3 columns]"
      ]
     },
     "execution_count": 85,
     "metadata": {},
     "output_type": "execute_result"
    }
   ],
   "source": [
    "df[df['year']==2015]"
   ]
  },
  {
   "cell_type": "code",
   "execution_count": 87,
   "metadata": {},
   "outputs": [
    {
     "data": {
      "text/plain": [
       "[29036749.189999994, 0    25730943.59\n",
       " Name: total_revenue, dtype: float64, 0    31417495.03\n",
       " Name: total_revenue, dtype: float64]"
      ]
     },
     "execution_count": 87,
     "metadata": {},
     "output_type": "execute_result"
    }
   ],
   "source": [
    "[df[df['year']==2015]['net_revenue'].sum(),res_2016['total_revenue'],res_2017['total_revenue']]"
   ]
  },
  {
   "cell_type": "code",
   "execution_count": 99,
   "metadata": {},
   "outputs": [
    {
     "data": {
      "text/plain": [
       "Text(0.5, 1.0, 'total revenue')"
      ]
     },
     "execution_count": 99,
     "metadata": {},
     "output_type": "execute_result"
    },
    {
     "data": {
      "image/png": "[encoded data removed]",
      "text/plain": [
       "<Figure size 432x288 with 1 Axes>"
      ]
     },
     "metadata": {
      "needs_background": "light"
     },
     "output_type": "display_data"
    }
   ],
   "source": [
    "import random\n",
    "r = random.random()\n",
    "b = random.random()\n",
    "g = random.random()\n",
    "color=(r, g, b)\n",
    "\n",
    "plt.bar(['2015','2016','2017'],[df[df['year']==2015]['net_revenue'].sum(),res_2016['total_revenue'],res_2017['total_revenue']],color=color,width=0.5)\n",
    "plt.title('total revenue')"
   ]
  },
  {
   "cell_type": "code",
   "execution_count": 102,
   "metadata": {},
   "outputs": [
    {
     "data": {
      "text/plain": [
       "[0    18245491.01\n",
       " Name: new_customer_revenue, dtype: float64, 0    28776235.04\n",
       " Name: new_customer_revenue, dtype: float64]"
      ]
     },
     "execution_count": 102,
     "metadata": {},
     "output_type": "execute_result"
    }
   ],
   "source": [
    "[res_2016['new_customer_revenue'],res_2017['new_customer_revenue']]"
   ]
  },
  {
   "cell_type": "code",
   "execution_count": 116,
   "metadata": {},
   "outputs": [
    {
     "data": {
      "text/plain": [
       "Text(0.5, 1.0, 'new customer revenue')"
      ]
     },
     "execution_count": 116,
     "metadata": {},
     "output_type": "execute_result"
    },
    {
     "data": {
      "image/png": "[encoded data removed]",
      "text/plain": [
       "<Figure size 432x288 with 1 Axes>"
      ]
     },
     "metadata": {
      "needs_background": "light"
     },
     "output_type": "display_data"
    }
   ],
   "source": [
    "r = random.random()\n",
    "b = random.random()\n",
    "g = random.random()\n",
    "color=(r, g, b)\n",
    "\n",
    "\n",
    "plt.bar(['2016','2017'],[res_2016['new_customer_revenue'][0],res_2017['new_customer_revenue'][0]],color=color,width=0.5)\n",
    "plt.title('new customer revenue')"
   ]
  },
  {
   "cell_type": "code",
   "execution_count": 111,
   "metadata": {},
   "outputs": [
    {
     "data": {
      "text/plain": [
       "Text(0.5, 1.0, 'existing customer_growth')"
      ]
     },
     "execution_count": 111,
     "metadata": {},
     "output_type": "execute_result"
    },
    {
     "data": {
      "image/png": "[encoded data removed]",
      "text/plain": [
       "<Figure size 432x288 with 1 Axes>"
      ]
     },
     "metadata": {
      "needs_background": "light"
     },
     "output_type": "display_data"
    }
   ],
   "source": [
    "r = random.random()\n",
    "b = random.random()\n",
    "g = random.random()\n",
    "color=(r, g, b)\n",
    "\n",
    "plt.bar(['2016','2017'],[res_2016['existing_customer_growth'][0],res_2017['existing_customer_growth'][0]],color=color,width=0.5)\n",
    "plt.title('existing customer_growth')"
   ]
  },
  {
   "cell_type": "code",
   "execution_count": null,
   "metadata": {},
   "outputs": [],
   "source": []
  }
 ],
 "metadata": {
  "kernelspec": {
   "display_name": "Python 3",
   "language": "python",
   "name": "python3"
  },
  "language_info": {
   "codemirror_mode": {
    "name": "ipython",
    "version": 3
   },
   "file_extension": ".py",
   "mimetype": "text/x-python",
   "name": "python",
   "nbconvert_exporter": "python",
   "pygments_lexer": "ipython3",
   "version": "3.7.4"
  }
 },
 "nbformat": 4,
 "nbformat_minor": 2
}
